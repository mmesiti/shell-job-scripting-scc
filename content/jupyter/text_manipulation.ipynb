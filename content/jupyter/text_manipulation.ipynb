{
 "cells": [
  {
   "cell_type": "markdown",
   "id": "2e587cc3-83a5-48ad-8cca-1cced673cd77",
   "metadata": {},
   "source": [
    "# Unix tools for text file manipulation and exploration\n",
    "\n",
    "This notebook contains a list of examples of common linux/unix commands.\n",
    "\n",
    "```{objectives}\n",
    "1. View and manipulate text and text files using fundamental Unix commands\n",
    "2. Combine fundamental Unix commands\n",
    "```\n",
    "\n",
    "\n",
    "```{admonition} Weird syntax ahead\n",
    "In order to reduce the need for temporary files to show the their effect,\n",
    "*process substitution* (that is, the syntax `<( *command* )`) and pipes (`|`) are used in the examples.\n",
    "If this looks obscure,\n",
    "the reader is invited to create the necessary temporary files.\n",
    "```\n",
    "\n",
    "```{admonition} To follow along\n",
    "Please navigate to the `examples/text_manipulation`directory.\n",
    "```"
   ]
  },
  {
   "cell_type": "code",
   "execution_count": 1,
   "id": "a84081eb-bc23-46c9-941b-b7f2f00bbc33",
   "metadata": {
    "tags": [
     "remove-cell"
    ]
   },
   "outputs": [
    {
     "name": "stdout",
     "output_type": "stream",
     "text": [
      "example.tsv  \u001b[0m\u001b[01;32mgenerate.sh\u001b[0m\n"
     ]
    }
   ],
   "source": [
    "cd ../../examples/text_manipulation/\n",
    "ls"
   ]
  },
  {
   "cell_type": "markdown",
   "id": "ffdd88da-91ca-44ee-90b2-e5e1707799d1",
   "metadata": {},
   "source": [
    "## \"Vertical\" text manipulation\n",
    "In this section, we have a look at commands \n",
    "that cut and sew together files \"vertically\".\n",
    "\n",
    "We are going to use a Tab separated value file\n",
    "as an example:"
   ]
  },
  {
   "cell_type": "code",
   "execution_count": 2,
   "id": "1c161a79-4f5c-4be6-b565-ac6da460d3cf",
   "metadata": {},
   "outputs": [
    {
     "name": "stdout",
     "output_type": "stream",
     "text": [
      "X\tY\tZ\tT\n",
      "a1\ta2\ta3\ta4\n",
      "b1\tb2\tb3\tb4\n",
      "c1\tc2\tc3\tc4\n",
      "n\t2\tp\tq\n",
      "n\t1\tp\tq\n",
      "o\t2\tq\tn\n",
      "o\t1\tq\tn\n",
      "p\t2\tn\to\n",
      "p\t1\tn\to\n",
      "q\t2\to\tx\n",
      "q\t1\to\tx\n"
     ]
    }
   ],
   "source": [
    "cat example.tsv"
   ]
  },
  {
   "cell_type": "markdown",
   "id": "ed711c14-33b8-4641-b1f5-1c45ba075050",
   "metadata": {},
   "source": [
    "Tabs are characters that are nicely understood as column separators by many tools.\n",
    "We slice it vertically using the `head` and `tail` commands."
   ]
  },
  {
   "cell_type": "code",
   "execution_count": 3,
   "id": "1d79bf49-6c6b-4010-8dba-3aa7959be522",
   "metadata": {},
   "outputs": [
    {
     "name": "stdout",
     "output_type": "stream",
     "text": [
      "X\tY\tZ\tT\n",
      "a1\ta2\ta3\ta4\n",
      "b1\tb2\tb3\tb4\n",
      "c1\tc2\tc3\tc4\n",
      "n\t2\tp\tq\n"
     ]
    }
   ],
   "source": [
    "head -n 5 example.tsv"
   ]
  },
  {
   "cell_type": "code",
   "execution_count": 4,
   "id": "f15fd629-7101-4680-8347-99c771533bd3",
   "metadata": {},
   "outputs": [
    {
     "name": "stdout",
     "output_type": "stream",
     "text": [
      "p\t2\tn\to\n",
      "p\t1\tn\to\n",
      "q\t2\to\tx\n",
      "q\t1\to\tx\n"
     ]
    }
   ],
   "source": [
    "tail -n 4 example.tsv"
   ]
  },
  {
   "cell_type": "markdown",
   "id": "32a54071-d9fc-4de7-a247-ad249247fafc",
   "metadata": {},
   "source": [
    "When a text file is large, \n",
    "the `head` and `tail` commands are very useful \n",
    "to get an idea of its content.\n",
    "To explore files, `wc` is also useful"
   ]
  },
  {
   "cell_type": "code",
   "execution_count": 5,
   "id": "6e038f3e-c23c-41ae-a8fb-fae86e55c97e",
   "metadata": {},
   "outputs": [
    {
     "name": "stdout",
     "output_type": "stream",
     "text": [
      " 12  48 108 example.tsv\n"
     ]
    }
   ],
   "source": [
    "wc example.tsv"
   ]
  },
  {
   "cell_type": "markdown",
   "id": "383332c8-9b3c-4fef-9211-526de43acd92",
   "metadata": {},
   "source": [
    "These number are, respectively, the number of lines/words/characters in `example.tsv`.\n",
    "\n",
    "Multiple files can be joined together vertically \n",
    "using the `cat` command:"
   ]
  },
  {
   "cell_type": "code",
   "execution_count": 6,
   "id": "a82460c2-cc74-4963-83d5-45b2f610f228",
   "metadata": {},
   "outputs": [
    {
     "name": "stdout",
     "output_type": "stream",
     "text": [
      "X\tY\tZ\tT\n",
      "a1\ta2\ta3\ta4\n",
      "b1\tb2\tb3\tb4\n",
      "c1\tc2\tc3\tc4\n",
      "n\t2\tp\tq\n",
      "n\t1\tp\tq\n",
      "o\t2\tq\tn\n",
      "o\t1\tq\tn\n",
      "p\t2\tn\to\n",
      "p\t1\tn\to\n",
      "q\t2\to\tx\n",
      "q\t1\to\tx\n"
     ]
    }
   ],
   "source": [
    "cat <(head -n 5 example.tsv) <(tail -n +6 example.tsv)"
   ]
  },
  {
   "cell_type": "markdown",
   "id": "1c28cdcf-ab3f-4724-9261-3a703e949a47",
   "metadata": {},
   "source": [
    "```{exercise} Break and concatenate\n",
    "   1. Verify, using the `diff` command,\n",
    "      that the output command above\n",
    "      reproduces the original `example.tsv`. \n",
    "\n",
    "      ```{hint}\n",
    "         You save the output to a temporary \n",
    "         file using `>`.\n",
    "      ```\n",
    "\n",
    "\n",
    "   2. What if you change the head command to take only 4 lines instead of 5?\n",
    "\n",
    "   3. (Bonus points) Try again, but do not use temporary files.\n",
    "   ```{solution}\n",
    "   1. Using temporary files:\n",
    "      ```bash\n",
    "      cat <(head -n 5 example.tsv) <(tail -n +6 example.tsv) > reconstructed.tsv\n",
    "      diff example.tsv reconstructed.tsv\n",
    "      ```\n",
    "      And there should be no output. \n",
    "    2. A possible solution, \n",
    "       in a single command, \n",
    "       without temporary files, \n",
    "       can be obtained by nesting \n",
    "       process substitution:\n",
    "       ```bash\n",
    "       diff <(cat <(head -n 5 example.tsv) <(tail -n +6 example.tsv)) example.tsv\n",
    "       ```\n",
    "       And there should be no output. \n",
    "   ```\n",
    "```"
   ]
  },
  {
   "cell_type": "markdown",
   "id": "feb0d8ab-54a9-4633-8c3f-db91d6ee2607",
   "metadata": {},
   "source": [
    "Another notable program that cuts files vertically is `grep`.\n",
    "`grep` can also be used with *regular expressions*:"
   ]
  },
  {
   "cell_type": "code",
   "execution_count": 7,
   "id": "340a8eb8-a714-4cdd-8716-0cd70f68a2d1",
   "metadata": {},
   "outputs": [
    {
     "name": "stdout",
     "output_type": "stream",
     "text": [
      "\u001b[01;31m\u001b[Ka1\u001b[m\u001b[K\t\u001b[01;31m\u001b[Ka2\u001b[m\u001b[K\t\u001b[01;31m\u001b[Ka\u001b[m\u001b[K3\t\u001b[01;31m\u001b[Ka\u001b[m\u001b[K4\n",
      "\u001b[01;31m\u001b[Kc1\u001b[m\u001b[K\t\u001b[01;31m\u001b[Kc2\u001b[m\u001b[K\t\u001b[01;31m\u001b[Kc\u001b[m\u001b[K3\t\u001b[01;31m\u001b[Kc\u001b[m\u001b[K4\n",
      "n\t2\t\u001b[01;31m\u001b[Kp\u001b[m\u001b[K\tq\n",
      "n\t1\t\u001b[01;31m\u001b[Kp\u001b[m\u001b[K\tq\n",
      "\u001b[01;31m\u001b[Kp\u001b[m\u001b[K\t2\tn\to\n",
      "\u001b[01;31m\u001b[Kp\u001b[m\u001b[K\t1\tn\to\n"
     ]
    }
   ],
   "source": [
    "grep -E '[acp][12]?' example.tsv"
   ]
  },
  {
   "cell_type": "markdown",
   "id": "71359e42-bd55-444d-a725-6b574f31bdbb",
   "metadata": {},
   "source": [
    "*Regular expressions* are a very powerful tool to search, extract and replace text, implemented in many programming languages and supported by many tools in the shell."
   ]
  },
  {
   "cell_type": "markdown",
   "id": "5073da64-f52f-41f1-b8d0-f6f84f224cc1",
   "metadata": {},
   "source": [
    "Multiple `grep` commands can be combined with *pipes*, creating sophisticated filters:"
   ]
  },
  {
   "cell_type": "code",
   "execution_count": 8,
   "id": "3d91e878-693b-40f2-bf25-48a573f92424",
   "metadata": {},
   "outputs": [
    {
     "name": "stdout",
     "output_type": "stream",
     "text": [
      "n\t1\tp\tq\n",
      "p\t1\tn\to\n"
     ]
    }
   ],
   "source": [
    "grep -E '[acp][12]?' example.tsv | grep -v '2'"
   ]
  },
  {
   "cell_type": "markdown",
   "id": "eb797ba9-f7d6-45dc-abfb-e28131d11976",
   "metadata": {},
   "source": [
    "```{exercise} View and search command history\n",
    "1. How would you print the last 10 entries in your command history into a text file?\n",
    "2. How many times have you used the `ls` command?\n",
    "```"
   ]
  },
  {
   "cell_type": "markdown",
   "id": "ae5fb697-136a-4a4f-aa38-364382ea869f",
   "metadata": {},
   "source": [
    "Another kind of vertical manipulation is done with the `sort` command (in this case, according to the second column):"
   ]
  },
  {
   "cell_type": "code",
   "execution_count": 9,
   "id": "09b3a376-d0a4-496c-9319-cc54b07260c6",
   "metadata": {},
   "outputs": [
    {
     "name": "stdout",
     "output_type": "stream",
     "text": [
      "p\t1\tn\to\n",
      "q\t1\to\tx\n",
      "n\t1\tp\tq\n",
      "o\t1\tq\tn\n",
      "p\t2\tn\to\n",
      "q\t2\to\tx\n",
      "n\t2\tp\tq\n",
      "o\t2\tq\tn\n"
     ]
    }
   ],
   "source": [
    "tail -n 8 example.tsv | sort -k2"
   ]
  },
  {
   "cell_type": "markdown",
   "id": "bea08e9f-8ab6-45ef-a5a3-8151ee80ed2c",
   "metadata": {},
   "source": [
    "## Horizontal Manipulations"
   ]
  },
  {
   "cell_type": "markdown",
   "id": "7f5c1bd1-8275-4fa8-a297-b9eabbb65453",
   "metadata": {},
   "source": [
    "`cut` can extract columns from a file:"
   ]
  },
  {
   "cell_type": "code",
   "execution_count": 10,
   "id": "b17b3559-26f5-4c7e-93ab-ef89982d16df",
   "metadata": {},
   "outputs": [
    {
     "name": "stdout",
     "output_type": "stream",
     "text": [
      "X\tY\n",
      "a1\ta2\n",
      "b1\tb2\n",
      "c1\tc2\n",
      "n\t2\n",
      "n\t1\n",
      "o\t2\n",
      "o\t1\n",
      "p\t2\n",
      "p\t1\n",
      "q\t2\n",
      "q\t1\n"
     ]
    }
   ],
   "source": [
    "cut -f1,2 example.tsv"
   ]
  },
  {
   "cell_type": "markdown",
   "id": "336b53ce-ceee-409c-85bb-8e20043f5578",
   "metadata": {},
   "source": [
    "and `paste` can join columns together:"
   ]
  },
  {
   "cell_type": "code",
   "execution_count": 11,
   "id": "812f8c21-4944-49e1-b8e2-fe094714008a",
   "metadata": {},
   "outputs": [
    {
     "name": "stdout",
     "output_type": "stream",
     "text": [
      "X\tY\tZ\tT\n",
      "a1\ta2\ta3\ta4\n",
      "b1\tb2\tb3\tb4\n",
      "c1\tc2\tc3\tc4\n",
      "n\t2\tp\tq\n",
      "n\t1\tp\tq\n",
      "o\t2\tq\tn\n",
      "o\t1\tq\tn\n",
      "p\t2\tn\to\n",
      "p\t1\tn\to\n",
      "q\t2\to\tx\n",
      "q\t1\to\tx\n"
     ]
    }
   ],
   "source": [
    "paste <(cut -f1,2 example.tsv) <(cut -f3,4 example.tsv)"
   ]
  },
  {
   "cell_type": "markdown",
   "id": "f73b9653-4dcd-4c41-aff4-b41a5a1b8064",
   "metadata": {},
   "source": [
    "```{exercise} Cut and paste\n",
    "1. Verify using the `diff` command that the output of the command above is equal to the original `example.tsv` file\n",
    "2. What happens if you change the column choices in `cut`?\n",
    "```"
   ]
  },
  {
   "cell_type": "markdown",
   "id": "dcd81c05-d2de-4d61-befa-e774db794039",
   "metadata": {},
   "source": [
    "## When `cut` does not cut it: `awk`\n",
    "\n",
    "`cut` is a simple tool that works when the columns of a file have a one-character separator.\n",
    "\n",
    "If this is not the case, one can resort to `awk`, which is a very powerful tool.\n",
    "\n",
    "To print the first 2 columns of `example.tsv` with `awk`, we can use"
   ]
  },
  {
   "cell_type": "code",
   "execution_count": 12,
   "id": "3568acb5-d0d9-4ed9-968b-03f34e28c924",
   "metadata": {},
   "outputs": [
    {
     "name": "stdout",
     "output_type": "stream",
     "text": [
      "X Y\n",
      "a1 a2\n",
      "b1 b2\n",
      "c1 c2\n",
      "n 2\n",
      "n 1\n",
      "o 2\n",
      "o 1\n",
      "p 2\n",
      "p 1\n",
      "q 2\n",
      "q 1\n"
     ]
    }
   ],
   "source": [
    "awk '{print $1,$2}' example.tsv"
   ]
  },
  {
   "cell_type": "markdown",
   "id": "792ba153-5f09-4094-89fc-510bbdd75ba9",
   "metadata": {},
   "source": [
    "`awk` can also be used in a pipe, and do mathematical operations, if you need to do quick checks."
   ]
  },
  {
   "cell_type": "markdown",
   "id": "845a5eae-226b-41eb-9bf5-4c35baf4f255",
   "metadata": {},
   "source": [
    "## Following a running program\n",
    "\n",
    "If we have a process that is generating some output in a text file\n",
    "and we want to monitor its output, we have two possibilities.\n"
   ]
  },
  {
   "cell_type": "markdown",
   "id": "ca078f79-195a-491d-b621-950bf3c6c5d8",
   "metadata": {},
   "source": [
    "### The `tee` command\n",
    "\n",
    "If we just want to see the output of a process \n",
    "and at the same time save it into a file, the `tee` command helps us to do that:\n"
   ]
  },
  {
   "cell_type": "code",
   "execution_count": 14,
   "id": "1880b5c0-860a-4c26-bb22-ad9d3e114821",
   "metadata": {},
   "outputs": [
    {
     "name": "stdout",
     "output_type": "stream",
     "text": [
      "Generating line 1...\n",
      "Generating line 2...\n",
      "Generating line 3...\n",
      "Generating line 4...\n",
      "Generating line 5...\n",
      "Generating line 6...\n",
      "Generating line 7...\n",
      "Generating line 8...\n",
      "Generating line 9...\n",
      "Generating line 10...\n",
      "Done.\n"
     ]
    }
   ],
   "source": [
    "./generate.sh | tee growing_file "
   ]
  },
  {
   "cell_type": "markdown",
   "id": "dab80681-d7d1-4aec-b5c1-990b98970623",
   "metadata": {},
   "source": [
    "### The `tail -f` command\n",
    "Alternatively, we can use `tail -f` (`-f` stands for follow).\n",
    "Example:"
   ]
  },
  {
   "cell_type": "code",
   "execution_count": 15,
   "id": "b2338d7e-7733-46e9-8535-fea39c9fe854",
   "metadata": {},
   "outputs": [
    {
     "name": "stdout",
     "output_type": "stream",
     "text": [
      "[1] 23541\n"
     ]
    }
   ],
   "source": [
    "./generate.sh > growing_file &"
   ]
  },
  {
   "cell_type": "markdown",
   "id": "fa9212ce-51c4-4796-9e06-67a52efa521e",
   "metadata": {},
   "source": [
    "This command is generating lines of text and adding them one by one to `growing_file`.\n",
    "To monitor the process, we can do"
   ]
  },
  {
   "cell_type": "code",
   "execution_count": 16,
   "id": "364e3b75-8597-4bce-aa48-43a99910ec35",
   "metadata": {},
   "outputs": [
    {
     "name": "stdout",
     "output_type": "stream",
     "text": [
      "Generating line 1...\n",
      "Generating line 2...\n",
      "Generating line 3...\n",
      "Generating line 4...\n",
      "Generating line 5...\n",
      "Generating line 6...\n",
      "Generating line 7...\n",
      "Generating line 8...\n",
      "Generating line 9...\n",
      "Generating line 10...\n",
      "Done.\n",
      "\n",
      "[1]+  Done                    ./generate.sh > growing_file\n"
     ]
    }
   ],
   "source": [
    "tail -f -s 5 growing_file"
   ]
  },
  {
   "cell_type": "markdown",
   "id": "19c8dbfc-429b-4744-adcd-aa3660b5e73a",
   "metadata": {},
   "source": [
    "And terminate with `CTRL+C` when we so decide.\n",
    "\n",
    "```{warning}\n",
    "\n",
    "`tail -f` can be nasty to other users!\n",
    "\n",
    "When used to monitor files in a global filesystem (e.g., you home directory) the frequent *polling* by `tail -f` might strain the filesystem unnecessarily. \n",
    "By adding the option `-s 20`, for example, we reduce the load by telling `tail` to check less frequently - in this case every 20 seconds.\n",
    "```"
   ]
  }
 ],
 "metadata": {
  "kernelspec": {
   "display_name": "Bash",
   "language": "bash",
   "name": "bash"
  },
  "language_info": {
   "codemirror_mode": "shell",
   "file_extension": ".sh",
   "mimetype": "text/x-sh",
   "name": "bash"
  }
 },
 "nbformat": 4,
 "nbformat_minor": 5
}
